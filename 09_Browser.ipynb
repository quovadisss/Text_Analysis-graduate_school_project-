{
 "cells": [
  {
   "cell_type": "markdown",
   "metadata": {},
   "source": [
    "일반적인 과정으로 yeonhap 뉴스 검색 결과를 수집해 보자"
   ]
  },
  {
   "cell_type": "code",
   "execution_count": 10,
   "metadata": {},
   "outputs": [],
   "source": [
    "import requests\n",
    "from bs4 import BeautifulSoup"
   ]
  },
  {
   "cell_type": "code",
   "execution_count": 11,
   "metadata": {},
   "outputs": [],
   "source": [
    "url = \"http://land.naver.com/article/divisionInfo.nhn?cortarNo=1162000000&rletTypeCd=A01&tradeTypeCd=\"\n",
    "html = requests.get(url).content\n",
    "soup = BeautifulSoup(html, \"lxml\")"
   ]
  },
  {
   "cell_type": "code",
   "execution_count": 12,
   "metadata": {},
   "outputs": [
    {
     "data": {
      "text/plain": [
       "[]"
      ]
     },
     "execution_count": 12,
     "metadata": {},
     "output_type": "execute_result"
    }
   ],
   "source": [
    "soup.find_all(\"div\", class_=\"cts_atclst\")"
   ]
  },
  {
   "cell_type": "markdown",
   "metadata": {},
   "source": [
    "그러면 결과가 안뜨는 것을 알 수 있다. <br>\n",
    "이는 javascript 등으로 인해 브라우저에서 동적으로 정보를 받아오기 때문<br>\n",
    "진짜 브라우저를 통해 접속해야만 정보를 가져올 수 있다. <br>\n",
    "이처럼 브라우저를 코드를 통해 작동하게 해주는 것이 selenium. <br>\n",
    "진짜로 브라우저를 키지 말고 가상으로 브라우저를 작동하게 해주는 것이 phantom js 이다 <br>"
   ]
  },
  {
   "cell_type": "code",
   "execution_count": 13,
   "metadata": {},
   "outputs": [],
   "source": [
    "from selenium import webdriver"
   ]
  },
  {
   "cell_type": "code",
   "execution_count": 14,
   "metadata": {},
   "outputs": [],
   "source": [
    "#phantomjs.exe 파일이 있는 곳의 경로를 지정해준다\n",
    "js_path = r'C:\\\\Users\\\\user\\\\phantomjs-2.1.1-windows\\\\bin\\\\phantomjs'\n",
    "driver = webdriver.PhantomJS(executable_path=js_path)"
   ]
  },
  {
   "cell_type": "code",
   "execution_count": 15,
   "metadata": {},
   "outputs": [
    {
     "data": {
      "text/plain": [
       "[<div class=\"cts_atclst\"><ul></ul></div>]"
      ]
     },
     "execution_count": 15,
     "metadata": {},
     "output_type": "execute_result"
    }
   ],
   "source": [
    "#이 아래부분은 일반적인 scraping 과 비슷하다.\n",
    "url = \"http://www.yonhapnews.co.kr/home09/7091000000.html?query\\\n",
    "=%EC%95%8C%ED%8C%8C%EA%B3%A0&from=20150324&to=20160324&period=1y\"\n",
    "driver.get(url)\n",
    "soup = BeautifulSoup(driver.page_source)\n",
    "soup.find_all(\"div\", class_=\"cts_atclst\")"
   ]
  },
  {
   "cell_type": "markdown",
   "metadata": {},
   "source": [
    "그런데 이건 브라우저를 작동하는 방식이라고 했다. <br>\n",
    "따라서 브라우저가 켜는데 시간이 걸림.<br>\n",
    "sleep 즉, 잠자는 시간을 좀 주면 됨."
   ]
  },
  {
   "cell_type": "code",
   "execution_count": 16,
   "metadata": {},
   "outputs": [
    {
     "data": {
      "text/plain": [
       "True"
      ]
     },
     "execution_count": 16,
     "metadata": {},
     "output_type": "execute_result"
    }
   ],
   "source": [
    "import time\n",
    "url = \"http://www.yonhapnews.co.kr/home09/7091000000.html?query\\\n",
    "=%EC%95%8C%ED%8C%8C%EA%B3%A0&from=20150324&to=20160324&period=1y\"\n",
    "driver.get(url)\n",
    "time.sleep(2)\n",
    "#그리고 현재 잘 켜졌는지 screen shot 을 통해 확인\n",
    "driver.save_screenshot('yeonhap.png')"
   ]
  },
  {
   "cell_type": "code",
   "execution_count": 17,
   "metadata": {},
   "outputs": [
    {
     "data": {
      "text/plain": [
       "[<div class=\"cts_atclst\"><ul></ul></div>]"
      ]
     },
     "execution_count": 17,
     "metadata": {},
     "output_type": "execute_result"
    }
   ],
   "source": [
    "#이제 확인해 보자\n",
    "soup = BeautifulSoup(driver.page_source)\n",
    "soup.find_all(\"div\", class_=\"cts_atclst\")"
   ]
  },
  {
   "cell_type": "code",
   "execution_count": null,
   "metadata": {
    "collapsed": true
   },
   "outputs": [],
   "source": []
  }
 ],
 "metadata": {
  "kernelspec": {
   "display_name": "Python 3",
   "language": "python",
   "name": "python3"
  },
  "language_info": {
   "codemirror_mode": {
    "name": "ipython",
    "version": 3
   },
   "file_extension": ".py",
   "mimetype": "text/x-python",
   "name": "python",
   "nbconvert_exporter": "python",
   "pygments_lexer": "ipython3",
   "version": "3.7.3"
  }
 },
 "nbformat": 4,
 "nbformat_minor": 1
}
