{
 "cells": [
  {
   "cell_type": "markdown",
   "metadata": {},
   "source": [
    "#### Selenium 과 Phantom JS 를 이용한 Naver Login <br>"
   ]
  },
  {
   "cell_type": "code",
   "execution_count": 8,
   "metadata": {},
   "outputs": [],
   "source": [
    "import requests\n",
    "from bs4 import BeautifulSoup"
   ]
  },
  {
   "cell_type": "code",
   "execution_count": 9,
   "metadata": {},
   "outputs": [],
   "source": [
    "from selenium import webdriver\n",
    "import time"
   ]
  },
  {
   "cell_type": "code",
   "execution_count": 10,
   "metadata": {},
   "outputs": [],
   "source": [
    "#phantomjs.exe 파일이 있는 곳의 경로를 지정해준다\n",
    "js_path = r'C:\\\\Users\\\\user\\phantomjs-2.1.1-windows\\\\bin\\\\phantomjs'\n",
    "driver = webdriver.PhantomJS(executable_path=js_path)"
   ]
  },
  {
   "cell_type": "code",
   "execution_count": 14,
   "metadata": {},
   "outputs": [],
   "source": [
    "#이 아래부분은 일반적인 scraping 과 비슷하다.\n",
    "naver_url = \"https://nid.naver.com/nidlogin.login\"\n",
    "driver.get(naver_url)\n",
    "#아래와 같이 sleep 을 주는 이유는 web browser 가 켜지는데 시간이 걸리기 때문이다.\n",
    "time.sleep(1)"
   ]
  },
  {
   "cell_type": "code",
   "execution_count": 15,
   "metadata": {},
   "outputs": [
    {
     "data": {
      "text/plain": [
       "True"
      ]
     },
     "execution_count": 15,
     "metadata": {},
     "output_type": "execute_result"
    }
   ],
   "source": [
    "#id 와 pw 변수를 정의하고\n",
    "user_id = \"targetboa\"\n",
    "user_pw = \"\"\n",
    "\n",
    "#현재 브라우저의 작동 상태를 확인하기 위해 capture 한다. 참고로 따로 폴더 경로를 지정하지 않으면 ipython notebook 이 실행되는 폴더에 image가 저장된다.\n",
    "driver.save_screenshot('naver_before_login.png')\n",
    "\n",
    "#브라우저 f12 키를 누르고 아이디 입력하는 창을 찾는다.\n",
    "elem = driver.find_element_by_id(\"id\")\n",
    "elem.send_keys(user_id)\n",
    "elem = driver.find_element_by_id(\"pw\")\n",
    "elem.send_keys(user_pw)\n",
    "elem.submit()\n",
    "time.sleep(1)\n",
    "driver.save_screenshot('naver_after_login.png')"
   ]
  },
  {
   "cell_type": "code",
   "execution_count": 9,
   "metadata": {},
   "outputs": [
    {
     "ename": "TypeError",
     "evalue": "get() missing 1 required positional argument: 'url'",
     "output_type": "error",
     "traceback": [
      "\u001b[1;31m---------------------------------------------------------------------------\u001b[0m",
      "\u001b[1;31mTypeError\u001b[0m                                 Traceback (most recent call last)",
      "\u001b[1;32m<ipython-input-9-19f88dffbb9a>\u001b[0m in \u001b[0;36m<module>\u001b[1;34m\u001b[0m\n\u001b[1;32m----> 1\u001b[1;33m \u001b[0mdriver\u001b[0m\u001b[1;33m.\u001b[0m\u001b[0mget\u001b[0m\u001b[1;33m(\u001b[0m\u001b[1;33m)\u001b[0m\u001b[1;33m\u001b[0m\u001b[1;33m\u001b[0m\u001b[0m\n\u001b[0m",
      "\u001b[1;31mTypeError\u001b[0m: get() missing 1 required positional argument: 'url'"
     ]
    }
   ],
   "source": [
    "driver.get()"
   ]
  },
  {
   "cell_type": "markdown",
   "metadata": {},
   "source": [
    "## 참고 : snulife 로그인해서 게시판 내용 가져오기"
   ]
  },
  {
   "cell_type": "code",
   "execution_count": 11,
   "metadata": {},
   "outputs": [],
   "source": [
    "#snulife 로그인해서 목록 가져오기\n",
    "driver = webdriver.PhantomJS(executable_path=\"C:\\\\Users\\\\user\\phantomjs-2.1.1-windows\\\\bin\\\\phantomjs\")\n",
    "url = \"http://snulife.com/main\"\n",
    "driver.get(url)"
   ]
  },
  {
   "cell_type": "code",
   "execution_count": 6,
   "metadata": {},
   "outputs": [
    {
     "data": {
      "text/plain": [
       "True"
      ]
     },
     "execution_count": 6,
     "metadata": {},
     "output_type": "execute_result"
    }
   ],
   "source": [
    "user_id = \"target11\"\n",
    "user_pw = \"3229abab\"\n",
    "driver.save_screenshot('snu_before_login.png')\n",
    "elem = driver.find_element_by_id(\"login_form_user_id\")\n",
    "elem.send_keys(user_id)\n",
    "elem = driver.find_element_by_name(\"password\")\n",
    "elem.send_keys(user_pw)\n",
    "elem.submit()\n",
    "time.sleep(1)\n",
    "driver.save_screenshot('snu_after_login.png')"
   ]
  },
  {
   "cell_type": "code",
   "execution_count": 12,
   "metadata": {},
   "outputs": [
    {
     "name": "stdout",
     "output_type": "stream",
     "text": [
      "<tbody>\n",
      "<tr>\n",
      "<td class=\"title\" style=\"\">\n",
      "<img src=\"/widgets/contentextended/skins/snulife/img/white/newest_dot.gif\"/>\n",
      "<a href=\"https://snulife.com/168238925\" style=\"text-decoration:none; \">[종료][중간고사 야...</a>\n",
      "</td>\n",
      "</tr>\n",
      "<tr>\n",
      "<td class=\"title\" style=\"\">\n",
      "<img src=\"/widgets/contentextended/skins/snulife/img/white/newest_dot.gif\"/>\n",
      "<a href=\"https://snulife.com/165541954\" style=\"text-decoration:none; \">[종료][동소제] 비어...</a>\n",
      "</td>\n",
      "</tr>\n",
      "<tr>\n",
      "<td class=\"title\" style=\"\">\n",
      "<img src=\"/widgets/contentextended/skins/snulife/img/white/newest_dot.gif\"/>\n",
      "<a href=\"https://snulife.com/165318917\" style=\"text-decoration:none; \">[종료]SNULife 39기 ...</a>\n",
      "</td>\n",
      "</tr>\n",
      "</tbody>\n",
      "<tbody>\n",
      "<tr>\n",
      "<td class=\"title\" style=\"\">\n",
      "<img src=\"/widgets/contentextended/skins/snulife/img/white/newest_dot.gif\"/>\n",
      "<a href=\"https://snulife.com/170944495\" style=\"text-decoration:none; \">여긴 이게 없네(출처...</a>\n",
      "</td>\n",
      "</tr>\n",
      "<tr>\n",
      "<td class=\"title\" style=\"\">\n",
      "<img src=\"/widgets/contentextended/skins/snulife/img/white/newest_dot.gif\"/>\n",
      "<a href=\"https://snulife.com/170961017\" style=\"text-decoration:none; \">동아시아 결전의 날.JPG</a>\n",
      "</td>\n",
      "</tr>\n",
      "<tr>\n",
      "<td class=\"title\" style=\"\">\n",
      "<img src=\"/widgets/contentextended/skins/snulife/img/white/newest_dot.gif\"/>\n",
      "<a href=\"https://snulife.com/170939954\" style=\"text-decoration:none; \">진중권의 정체성.jpg</a>\n",
      "</td>\n",
      "</tr>\n",
      "<tr>\n",
      "<td class=\"title\" style=\"\">\n",
      "<img src=\"/widgets/contentextended/skins/snulife/img/white/newest_dot.gif\"/>\n",
      "<a href=\"https://snulife.com/170968308\" style=\"text-decoration:none; \">독재국가..질문회 수...</a>\n",
      "</td>\n",
      "</tr>\n",
      "<tr>\n",
      "<td class=\"title\" style=\"\">\n",
      "<img src=\"/widgets/contentextended/skins/snulife/img/white/newest_dot.gif\"/>\n",
      "<a href=\"https://snulife.com/170954016\" style=\"text-decoration:none; \">진짜 요즘 보면 중국...</a>\n",
      "</td>\n",
      "</tr>\n",
      "</tbody>\n"
     ]
    }
   ],
   "source": [
    "#main 에서 best page 로 이동한다.\n",
    "driver.get(\"http://snulife.com/best\")\n",
    "\n",
    "soup = BeautifulSoup(driver.page_source)\n",
    "for row in soup.find_all(\"table\"):\n",
    "    print(row.tbody)"
   ]
  },
  {
   "cell_type": "code",
   "execution_count": 14,
   "metadata": {},
   "outputs": [
    {
     "name": "stdout",
     "output_type": "stream",
     "text": [
      "\n",
      "\n",
      "여긴 이게 없네(출처...\n",
      "\n",
      "\n",
      "\n",
      "동아시아 결전의 날.JPG\n",
      "\n",
      "\n",
      "\n",
      "진중권의 정체성.jpg\n",
      "\n",
      "\n",
      "\n",
      "독재국가..질문회 수...\n",
      "\n",
      "\n",
      "\n",
      "진짜 요즘 보면 중국...\n",
      "\n"
     ]
    }
   ],
   "source": [
    "for i in row.tbody.find_all(\"td\", class_=\"title\"):\n",
    "    print(i.text)"
   ]
  },
  {
   "cell_type": "code",
   "execution_count": null,
   "metadata": {
    "collapsed": true
   },
   "outputs": [],
   "source": [
    "i"
   ]
  }
 ],
 "metadata": {
  "kernelspec": {
   "display_name": "Python 3",
   "language": "python",
   "name": "python3"
  },
  "language_info": {
   "codemirror_mode": {
    "name": "ipython",
    "version": 3
   },
   "file_extension": ".py",
   "mimetype": "text/x-python",
   "name": "python",
   "nbconvert_exporter": "python",
   "pygments_lexer": "ipython3",
   "version": "3.7.3"
  }
 },
 "nbformat": 4,
 "nbformat_minor": 1
}
